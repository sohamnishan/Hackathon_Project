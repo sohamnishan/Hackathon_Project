{
 "cells": [
  {
   "cell_type": "code",
   "execution_count": null,
   "metadata": {},
   "outputs": [],
   "source": []
  },
  {
   "cell_type": "code",
   "execution_count": 1,
   "metadata": {},
   "outputs": [
    {
     "name": "stdout",
     "output_type": "stream",
     "text": [
      "Requirement already satisfied: plaid_python in /Users/goutham/opt/anaconda3/lib/python3.8/site-packages (7.4.0)\n",
      "Requirement already satisfied: requests>=2.7.0 in /Users/goutham/opt/anaconda3/lib/python3.8/site-packages (from plaid_python) (2.25.1)\n",
      "Requirement already satisfied: certifi>=2017.4.17 in /Users/goutham/opt/anaconda3/lib/python3.8/site-packages (from requests>=2.7.0->plaid_python) (2020.12.5)\n",
      "Requirement already satisfied: urllib3<1.27,>=1.21.1 in /Users/goutham/opt/anaconda3/lib/python3.8/site-packages (from requests>=2.7.0->plaid_python) (1.26.4)\n",
      "Requirement already satisfied: chardet<5,>=3.0.2 in /Users/goutham/opt/anaconda3/lib/python3.8/site-packages (from requests>=2.7.0->plaid_python) (4.0.0)\n",
      "Requirement already satisfied: idna<3,>=2.5 in /Users/goutham/opt/anaconda3/lib/python3.8/site-packages (from requests>=2.7.0->plaid_python) (2.10)\n",
      "Note: you may need to restart the kernel to use updated packages.\n"
     ]
    }
   ],
   "source": [
    "pip install plaid_python"
   ]
  },
  {
   "cell_type": "code",
   "execution_count": 2,
   "metadata": {},
   "outputs": [
    {
     "name": "stdout",
     "output_type": "stream",
     "text": [
      "Requirement already satisfied: dash-bootstrap-components in /Users/goutham/opt/anaconda3/lib/python3.8/site-packages (0.13.0)\n",
      "Requirement already satisfied: dash>=1.9.0 in /Users/goutham/opt/anaconda3/lib/python3.8/site-packages (from dash-bootstrap-components) (1.21.0)\n",
      "Requirement already satisfied: Flask>=1.0.4 in /Users/goutham/opt/anaconda3/lib/python3.8/site-packages (from dash>=1.9.0->dash-bootstrap-components) (1.1.2)\n",
      "Requirement already satisfied: dash-html-components==1.1.4 in /Users/goutham/opt/anaconda3/lib/python3.8/site-packages (from dash>=1.9.0->dash-bootstrap-components) (1.1.4)\n",
      "Requirement already satisfied: flask-compress in /Users/goutham/opt/anaconda3/lib/python3.8/site-packages (from dash>=1.9.0->dash-bootstrap-components) (1.10.1)\n",
      "Requirement already satisfied: plotly in /Users/goutham/opt/anaconda3/lib/python3.8/site-packages (from dash>=1.9.0->dash-bootstrap-components) (5.1.0)\n",
      "Requirement already satisfied: future in /Users/goutham/opt/anaconda3/lib/python3.8/site-packages (from dash>=1.9.0->dash-bootstrap-components) (0.18.2)\n",
      "Requirement already satisfied: dash-table==4.12.0 in /Users/goutham/opt/anaconda3/lib/python3.8/site-packages (from dash>=1.9.0->dash-bootstrap-components) (4.12.0)\n",
      "Requirement already satisfied: dash-core-components==1.17.1 in /Users/goutham/opt/anaconda3/lib/python3.8/site-packages (from dash>=1.9.0->dash-bootstrap-components) (1.17.1)\n",
      "Requirement already satisfied: Jinja2>=2.10.1 in /Users/goutham/opt/anaconda3/lib/python3.8/site-packages (from Flask>=1.0.4->dash>=1.9.0->dash-bootstrap-components) (2.11.3)\n",
      "Requirement already satisfied: Werkzeug>=0.15 in /Users/goutham/opt/anaconda3/lib/python3.8/site-packages (from Flask>=1.0.4->dash>=1.9.0->dash-bootstrap-components) (1.0.1)\n",
      "Requirement already satisfied: click>=5.1 in /Users/goutham/opt/anaconda3/lib/python3.8/site-packages (from Flask>=1.0.4->dash>=1.9.0->dash-bootstrap-components) (7.1.2)\n",
      "Requirement already satisfied: itsdangerous>=0.24 in /Users/goutham/opt/anaconda3/lib/python3.8/site-packages (from Flask>=1.0.4->dash>=1.9.0->dash-bootstrap-components) (1.1.0)\n",
      "Requirement already satisfied: MarkupSafe>=0.23 in /Users/goutham/opt/anaconda3/lib/python3.8/site-packages (from Jinja2>=2.10.1->Flask>=1.0.4->dash>=1.9.0->dash-bootstrap-components) (1.1.1)\n",
      "Requirement already satisfied: brotli in /Users/goutham/opt/anaconda3/lib/python3.8/site-packages (from flask-compress->dash>=1.9.0->dash-bootstrap-components) (1.0.9)\n",
      "Requirement already satisfied: tenacity>=6.2.0 in /Users/goutham/opt/anaconda3/lib/python3.8/site-packages (from plotly->dash>=1.9.0->dash-bootstrap-components) (8.0.1)\n",
      "Requirement already satisfied: six in /Users/goutham/opt/anaconda3/lib/python3.8/site-packages (from plotly->dash>=1.9.0->dash-bootstrap-components) (1.15.0)\n",
      "Note: you may need to restart the kernel to use updated packages.\n"
     ]
    }
   ],
   "source": [
    "pip install dash-bootstrap-components"
   ]
  },
  {
   "cell_type": "code",
   "execution_count": 3,
   "metadata": {},
   "outputs": [],
   "source": [
    "import plaid\n",
    "from flask import Flask\n",
    "from flask import render_template\n",
    "from flask import request\n",
    "from flask import jsonify\n",
    "import datetime\n",
    "from datetime import timedelta\n",
    "import pandas as pd\n",
    "from matplotlib import pyplot as plt\n",
    "import seaborn as sns\n",
    "import numpy as np\n",
    "import plotly.express as px\n",
    "import plotly.graph_objects as go\n",
    "from pandas.core.frame import DataFrame\n",
    "from jupyter_dash import JupyterDash      #to build Dash apps from Jupyter environments\n",
    "import dash_core_components as dcc        #to get components for interactive user interfaces\n",
    "import dash_html_components as html  \n",
    "import dash\n",
    "import dash_table\n",
    "import dash_bootstrap_components as dbc\n",
    "from dash.dependencies import Input, Output, State"
   ]
  },
  {
   "cell_type": "code",
   "execution_count": null,
   "metadata": {},
   "outputs": [],
   "source": []
  },
  {
   "cell_type": "markdown",
   "metadata": {},
   "source": [
    "# 1. Retrieve data from plaid sandbox"
   ]
  },
  {
   "cell_type": "markdown",
   "metadata": {},
   "source": [
    "##### The tokens below are removed and if needed, the tokens can be found in tokens.txt file.\n",
    "##### get client_id and secret from https://dashboard.plaid.com/team/keys \n",
    "##### get access_token and item_id from https://dashboard.plaid.com/overview/sandbox"
   ]
  },
  {
   "cell_type": "code",
   "execution_count": 4,
   "metadata": {},
   "outputs": [],
   "source": [
    "app = Flask(__name__)"
   ]
  },
  {
   "cell_type": "code",
   "execution_count": 5,
   "metadata": {},
   "outputs": [],
   "source": [
    "client = plaid.Client(client_id='',\n",
    "                      secret='',\n",
    "                      environment='sandbox')"
   ]
  },
  {
   "cell_type": "code",
   "execution_count": 6,
   "metadata": {},
   "outputs": [],
   "source": [
    "access_token = ''\n",
    "public_token = None\n",
    "item_id = ''"
   ]
  },
  {
   "cell_type": "code",
   "execution_count": 7,
   "metadata": {},
   "outputs": [],
   "source": [
    "app.app_context().push()"
   ]
  },
  {
   "cell_type": "code",
   "execution_count": 8,
   "metadata": {},
   "outputs": [],
   "source": [
    "# Retrieve an Item's accounts\n",
    "@app.route('/accounts', methods=['GET'])\n",
    "def get_accounts():\n",
    "  try:\n",
    "    accounts_response = client.Accounts.get(access_token)\n",
    "  except plaid.errors.PlaidError as e:\n",
    "    return jsonify({'error': {'display_message': e.display_message, 'error_code': e.code, 'error_type': e.type } })\n",
    "  return jsonify({'error': None, 'accounts': accounts_response})"
   ]
  },
  {
   "cell_type": "code",
   "execution_count": 9,
   "metadata": {
    "scrolled": true
   },
   "outputs": [],
   "source": [
    "accounts=get_accounts().json"
   ]
  },
  {
   "cell_type": "code",
   "execution_count": 10,
   "metadata": {
    "scrolled": true
   },
   "outputs": [
    {
     "ename": "KeyError",
     "evalue": "'accounts'",
     "output_type": "error",
     "traceback": [
      "\u001b[0;31m---------------------------------------------------------------------------\u001b[0m",
      "\u001b[0;31mKeyError\u001b[0m                                  Traceback (most recent call last)",
      "\u001b[0;32m<ipython-input-10-1dd32d97ad42>\u001b[0m in \u001b[0;36m<module>\u001b[0;34m\u001b[0m\n\u001b[0;32m----> 1\u001b[0;31m \u001b[0maccounts\u001b[0m\u001b[0;34m=\u001b[0m\u001b[0maccounts\u001b[0m\u001b[0;34m[\u001b[0m\u001b[0;34m'accounts'\u001b[0m\u001b[0;34m]\u001b[0m\u001b[0;34m\u001b[0m\u001b[0;34m\u001b[0m\u001b[0m\n\u001b[0m\u001b[1;32m      2\u001b[0m \u001b[0maccounts\u001b[0m\u001b[0;34m=\u001b[0m\u001b[0maccounts\u001b[0m\u001b[0;34m[\u001b[0m\u001b[0;34m'accounts'\u001b[0m\u001b[0;34m]\u001b[0m\u001b[0;34m\u001b[0m\u001b[0;34m\u001b[0m\u001b[0m\n\u001b[1;32m      3\u001b[0m \u001b[0maccounts\u001b[0m\u001b[0;34m\u001b[0m\u001b[0;34m\u001b[0m\u001b[0m\n",
      "\u001b[0;31mKeyError\u001b[0m: 'accounts'"
     ]
    }
   ],
   "source": [
    "accounts=accounts['accounts']\n",
    "accounts=accounts['accounts']\n",
    "accounts"
   ]
  },
  {
   "cell_type": "code",
   "execution_count": null,
   "metadata": {},
   "outputs": [],
   "source": [
    "rows=[]\n",
    "for entries in accounts:\n",
    "    account_id=entries['account_id']\n",
    "    balances=entries['balances']\n",
    "    mask=entries['mask']\n",
    "    name=entries['name']\n",
    "    official_name=entries['official_name']\n",
    "    subtype=entries['subtype']\n",
    "    type=entries['type']\n",
    "    rows.append((account_id,balances,mask,name,official_name,subtype,type))"
   ]
  },
  {
   "cell_type": "code",
   "execution_count": null,
   "metadata": {
    "scrolled": true
   },
   "outputs": [],
   "source": [
    "df=pd.DataFrame(rows)\n",
    "df.columns=['account_id','balances','mask','name','official_name','subtype','type']\n",
    "df.head()"
   ]
  },
  {
   "cell_type": "code",
   "execution_count": null,
   "metadata": {},
   "outputs": [],
   "source": [
    "response = client.Transactions.get(access_token,\n",
    "                                   start_date='2019-06-01',\n",
    "                                   end_date='2021-06-01')\n",
    "transactions = response['transactions']\n",
    "\n",
    "# Manipulate the count and offset parameters to paginate\n",
    "# transactions and retrieve all available data\n",
    "while len(transactions) < response['total_transactions']:\n",
    "    response = client.Transactions.get(access_token,\n",
    "                                       start_date='2019-06-01',\n",
    "                                       end_date='2021-06-01',\n",
    "                                       offset=len(transactions)\n",
    "                                      )\n",
    "    transactions.extend(response['transactions'])"
   ]
  },
  {
   "cell_type": "code",
   "execution_count": null,
   "metadata": {
    "scrolled": true
   },
   "outputs": [],
   "source": [
    "transactions"
   ]
  },
  {
   "cell_type": "code",
   "execution_count": null,
   "metadata": {},
   "outputs": [],
   "source": [
    "rows=[]\n",
    "for entries in transactions:\n",
    "    account_id=entries['account_id']\n",
    "    amount=entries['amount']\n",
    "    category=entries['category']\n",
    "    category_id=entries['category_id']\n",
    "    date=entries['date']\n",
    "    iso_currency_code=entries['iso_currency_code']\n",
    "    merchant_name=entries['merchant_name']\n",
    "    payment_channel=entries['payment_channel']\n",
    "    transaction_id=entries['transaction_id']\n",
    "    transaction_type=entries['transaction_type']\n",
    "    rows.append((account_id,amount,category,date,iso_currency_code,merchant_name,payment_channel,transaction_id,transaction_type))"
   ]
  },
  {
   "cell_type": "code",
   "execution_count": null,
   "metadata": {
    "scrolled": true
   },
   "outputs": [],
   "source": [
    "df=pd.DataFrame(rows)\n",
    "df.columns=['account_id','amount','category','date','iso_currency_code','merchant_name','payment_channel','transaction_id','transaction_type']\n"
   ]
  },
  {
   "cell_type": "code",
   "execution_count": null,
   "metadata": {},
   "outputs": [],
   "source": [
    "df['category'] =  df['category'].str.get(0)\n",
    "df.head()"
   ]
  },
  {
   "cell_type": "code",
   "execution_count": null,
   "metadata": {},
   "outputs": [],
   "source": [
    "df.groupby('account_id').count()"
   ]
  },
  {
   "cell_type": "code",
   "execution_count": null,
   "metadata": {},
   "outputs": [],
   "source": [
    "## choose the account_id with the largest amount"
   ]
  },
  {
   "cell_type": "code",
   "execution_count": null,
   "metadata": {},
   "outputs": [],
   "source": [
    "filter=df['account_id']=='KqGV8JJZZDFx9KwNzMZ3hlGdewnkzxF63VWZB'"
   ]
  },
  {
   "cell_type": "code",
   "execution_count": null,
   "metadata": {},
   "outputs": [],
   "source": [
    "df=df[filter]"
   ]
  },
  {
   "cell_type": "code",
   "execution_count": null,
   "metadata": {},
   "outputs": [],
   "source": [
    "df.head()"
   ]
  },
  {
   "cell_type": "code",
   "execution_count": null,
   "metadata": {
    "scrolled": true
   },
   "outputs": [],
   "source": [
    "df['date'] = pd.to_datetime(df['date'])\n",
    "df['weekday'] = df['date'].dt.strftime(\"%A\")\n",
    "df['month'] = df['date'].apply(lambda x: x.strftime('%Y-%m')) \n",
    "df[\"date\"] = df[\"date\"].dt.date\n",
    "df.head()"
   ]
  },
  {
   "cell_type": "code",
   "execution_count": null,
   "metadata": {},
   "outputs": [],
   "source": []
  },
  {
   "cell_type": "code",
   "execution_count": null,
   "metadata": {},
   "outputs": [],
   "source": [
    "##break payment into home rent payment, bill payent and insurance payment."
   ]
  },
  {
   "cell_type": "code",
   "execution_count": null,
   "metadata": {
    "scrolled": false
   },
   "outputs": [],
   "source": [
    "filter1=df['category']=='Payment'\n",
    "df3=df[filter1]\n",
    "df3.head()"
   ]
  },
  {
   "cell_type": "code",
   "execution_count": null,
   "metadata": {},
   "outputs": [],
   "source": [
    "x=df3.copy()\n",
    "x=x.reset_index(drop=True)\n",
    "x_new=x"
   ]
  },
  {
   "cell_type": "code",
   "execution_count": null,
   "metadata": {},
   "outputs": [],
   "source": []
  },
  {
   "cell_type": "code",
   "execution_count": null,
   "metadata": {},
   "outputs": [],
   "source": [
    "for index in range(len(x)):\n",
    "    x1=x.loc[[index],:]\n",
    "    x1.amount=415.7\n",
    "    x1.category='Bill payment'\n",
    "    x2=x.loc[[index],:]\n",
    "    x2.amount=831.4\n",
    "    x2.category='Insurance payment'\n",
    "    x_new = pd.concat([x_new,x1,x2]).sort_index()"
   ]
  },
  {
   "cell_type": "code",
   "execution_count": null,
   "metadata": {},
   "outputs": [],
   "source": []
  },
  {
   "cell_type": "code",
   "execution_count": null,
   "metadata": {},
   "outputs": [],
   "source": [
    "x_new=x_new[~x_new['category'].isin([\"Payment\"])]  \n",
    "x_new.head()"
   ]
  },
  {
   "cell_type": "code",
   "execution_count": null,
   "metadata": {},
   "outputs": [],
   "source": [
    "df=df.append(x_new,ignore_index=True)\n"
   ]
  },
  {
   "cell_type": "code",
   "execution_count": null,
   "metadata": {},
   "outputs": [],
   "source": [
    "df.replace('Payment','Home rent payment',inplace=True)\n",
    "df.replace(2078.5,831.4,inplace=True)"
   ]
  },
  {
   "cell_type": "code",
   "execution_count": null,
   "metadata": {},
   "outputs": [],
   "source": [
    "df = df.sort_values(by = 'date')\n",
    "df=df.reset_index(drop=True)"
   ]
  },
  {
   "cell_type": "code",
   "execution_count": null,
   "metadata": {},
   "outputs": [],
   "source": [
    "df.drop(['account_id','transaction_id'],axis=1,inplace=True)"
   ]
  },
  {
   "cell_type": "code",
   "execution_count": null,
   "metadata": {},
   "outputs": [],
   "source": [
    "df.head()"
   ]
  },
  {
   "cell_type": "code",
   "execution_count": null,
   "metadata": {},
   "outputs": [],
   "source": []
  },
  {
   "cell_type": "markdown",
   "metadata": {},
   "source": [
    "# 2. Make interactive graphs"
   ]
  },
  {
   "cell_type": "code",
   "execution_count": null,
   "metadata": {},
   "outputs": [],
   "source": [
    "fig1 = px.bar(df, x=\"weekday\", y=\"amount\", color=\"category\", barmode=\"group\",hover_data=['category', 'date'],title=\"Expenses by week\")       \n",
    "fig1.show()"
   ]
  },
  {
   "cell_type": "code",
   "execution_count": null,
   "metadata": {
    "scrolled": false
   },
   "outputs": [],
   "source": [
    "fig2 = px.bar(df, x=\"month\", y=\"amount\", color=\"category\", barmode=\"group\",hover_data=['category', 'date'],title=\"Expenses by month\")       \n",
    "fig2.show()"
   ]
  },
  {
   "cell_type": "code",
   "execution_count": null,
   "metadata": {
    "scrolled": true
   },
   "outputs": [],
   "source": [
    "fig3 = px.bar(df, x=\"month\", y=\"amount\", color=\"category\", title=\"Expenses in last 2 years\",hover_data=['category', 'date'])\n",
    "fig3.show()"
   ]
  },
  {
   "cell_type": "code",
   "execution_count": null,
   "metadata": {},
   "outputs": [],
   "source": [
    "fig4 = px.bar(df, x=\"date\", y=\"amount\", color=\"category\", title=\"expenses in last 2 years\",hover_data=['category', 'date'])\n",
    "fig4.show()"
   ]
  },
  {
   "cell_type": "code",
   "execution_count": null,
   "metadata": {},
   "outputs": [],
   "source": [
    "df1=df.groupby('category',as_index=False).sum()\n",
    "df1"
   ]
  },
  {
   "cell_type": "code",
   "execution_count": null,
   "metadata": {},
   "outputs": [],
   "source": [
    "billPayment = (df1[df1.category == 'Bill payment']['amount'].iloc[0])/22\n",
    "FoodandDrink = (df1[df1.category == 'Food and Drink']['amount'].iloc[0])/22\n",
    "HomeRentpayment = (df1[df1.category == 'Home rent payment']['amount'].iloc[0])/22\n",
    "InsurancePayment = (df1[df1.category == 'Insurance payment']['amount'].iloc[0])/22\n",
    "Recreation = (df1[df1.category == 'Recreation']['amount'].iloc[0])/22\n",
    "Shops = (df1[df1.category == 'Shops']['amount'].iloc[0])/22\n",
    "Travel = (df1[df1.category == 'Travel']['amount'].iloc[0])/22\n"
   ]
  },
  {
   "cell_type": "code",
   "execution_count": null,
   "metadata": {},
   "outputs": [],
   "source": [
    "billPayment"
   ]
  },
  {
   "cell_type": "code",
   "execution_count": null,
   "metadata": {},
   "outputs": [],
   "source": [
    "df1=df1.reset_index()"
   ]
  },
  {
   "cell_type": "code",
   "execution_count": null,
   "metadata": {},
   "outputs": [],
   "source": [
    "fig5 = px.pie(df1, values='amount',names='category',title='Expenses by category')\n",
    "fig5.show()"
   ]
  },
  {
   "cell_type": "code",
   "execution_count": null,
   "metadata": {},
   "outputs": [],
   "source": []
  },
  {
   "cell_type": "markdown",
   "metadata": {},
   "source": [
    "# 3. Make predictions using machine learning"
   ]
  },
  {
   "cell_type": "code",
   "execution_count": null,
   "metadata": {},
   "outputs": [],
   "source": [
    "df2=df.groupby('date').sum()\n",
    "df2"
   ]
  },
  {
   "cell_type": "code",
   "execution_count": null,
   "metadata": {},
   "outputs": [],
   "source": [
    "y=df2['amount'].values.reshape(-1,1)"
   ]
  },
  {
   "cell_type": "code",
   "execution_count": null,
   "metadata": {},
   "outputs": [],
   "source": [
    "x = np.arange(88)\n",
    "x=x.reshape(-1, 1)"
   ]
  },
  {
   "cell_type": "code",
   "execution_count": null,
   "metadata": {},
   "outputs": [],
   "source": [
    "from sklearn.model_selection import train_test_split as tts\n",
    "xtrain, xtest, ytrain, ytest = tts(x, y, test_size = 0.2)"
   ]
  },
  {
   "cell_type": "code",
   "execution_count": null,
   "metadata": {},
   "outputs": [],
   "source": [
    "from sklearn.linear_model import LinearRegression\n",
    "regressor = LinearRegression()\n",
    "regressor.fit(xtrain, ytrain)"
   ]
  },
  {
   "cell_type": "code",
   "execution_count": null,
   "metadata": {},
   "outputs": [],
   "source": [
    "ypred = regressor.predict(xtest)"
   ]
  },
  {
   "cell_type": "code",
   "execution_count": null,
   "metadata": {},
   "outputs": [],
   "source": [
    "import statsmodels.api as sm\n",
    "xopt = np.hstack([np.ones((x.shape[0], 1)), x])\n",
    "for i in range(xopt.shape[1]):\n",
    "    pvalues = sm.OLS(y, xopt.astype(np.float64)).fit().pvalues\n",
    "    mi = np.argmax(pvalues)\n",
    "    mp = pvalues[mi]\n",
    "    if mp > 0.05:\n",
    "        xopt = np.delete(xopt, [mi], 1)\n",
    "    else:\n",
    "        break"
   ]
  },
  {
   "cell_type": "code",
   "execution_count": null,
   "metadata": {},
   "outputs": [],
   "source": [
    "xtrain, xtest, ytrain, ytest = tts(xopt, y, test_size = 0.2, random_state = 0)\n",
    "regressor = LinearRegression()\n",
    "regressor.fit(xtrain, ytrain)\n",
    "\n",
    "ypredopt = regressor.predict(xtest)"
   ]
  },
  {
   "cell_type": "code",
   "execution_count": null,
   "metadata": {},
   "outputs": [],
   "source": [
    "list1=ytest.tolist()\n",
    "list1 = [int(x) for item in list1 for x in item]\n",
    "list2=ypred.tolist()\n",
    "list2 = [int(x) for item in list2 for x in item]\n",
    "list3=ypredopt.tolist()\n",
    "list3 = [int(x) for item in list3 for x in item]\n",
    "x = np.arange(18)\n",
    "x = x.tolist()"
   ]
  },
  {
   "cell_type": "code",
   "execution_count": null,
   "metadata": {},
   "outputs": [],
   "source": [
    "c={\"real points\" : list1,\n",
    "   \"predicted points before backward elimination\" : list2,\n",
    "   \"predicted points after backward elimination\":list3,\n",
    "   \"x\":x}\n",
    "data=DataFrame(c)\n",
    "data.head()"
   ]
  },
  {
   "cell_type": "code",
   "execution_count": null,
   "metadata": {},
   "outputs": [],
   "source": [
    "fig6 = px.line(data, x='x', y=data.columns[0:3],title='Linear regression',labels={'x':'days in the test set','value':'amount'})\n",
    "fig6.show()"
   ]
  },
  {
   "cell_type": "code",
   "execution_count": null,
   "metadata": {},
   "outputs": [],
   "source": []
  },
  {
   "cell_type": "markdown",
   "metadata": {},
   "source": [
    "# 4. Calucations based on income"
   ]
  },
  {
   "cell_type": "code",
   "execution_count": null,
   "metadata": {},
   "outputs": [],
   "source": [
    "pip install numpy_financial"
   ]
  },
  {
   "cell_type": "code",
   "execution_count": null,
   "metadata": {},
   "outputs": [],
   "source": [
    "import numpy_financial as npf"
   ]
  },
  {
   "cell_type": "markdown",
   "metadata": {},
   "source": [
    "## Variable expenses to be considered apart from regular expenses"
   ]
  },
  {
   "cell_type": "code",
   "execution_count": null,
   "metadata": {},
   "outputs": [],
   "source": [
    "carLoans=200\n",
    "creditCardMinimums = 120\n",
    "studentLoans=110\n",
    "otherMortgages=200\n",
    "childSupportAndObligations=110\n",
    "PMI=500\n",
    "propertyTax=150\n",
    "homeOwnersAssociationFees=60\n",
    "homeOwnersInsurance=70\n",
    "otherLoans=100\n",
    "maxDebtToIncomeRatio=30"
   ]
  },
  {
   "cell_type": "markdown",
   "metadata": {},
   "source": [
    "## Required variables to be considered before taking loan "
   ]
  },
  {
   "cell_type": "code",
   "execution_count": null,
   "metadata": {},
   "outputs": [],
   "source": [
    "grossAnnualIncome = 120000\n",
    "availableFunds = 10000\n",
    "emergencyFundPercentage = 20\n",
    "fixedClosingCosts = 1500\n",
    "termOfMortgageInYears = 10\n",
    "annualInterestRate = 6\n",
    "totalEstimatedClosingCosts = 1000\n",
    "homePriceDepreciablePercentage = 20\n",
    "yearsToDepreciate = 40"
   ]
  },
  {
   "cell_type": "code",
   "execution_count": null,
   "metadata": {},
   "outputs": [],
   "source": [
    "def ExpectedMaxMonthlyHousePmt(maximumHousingExpensePercentage):\n",
    "    return ((grossAnnualIncome*maximumHousingExpensePercentage)/100)/12\n",
    "\n",
    "def MaxMonthlyPmtonDTI(carLoans, creditCardMinimums, studentLoans, childSupportAndObligations, otherMortgages, otherLoans, maxDebtToIncomeRatio):\n",
    "    currentMonthlyDebts = carLoans + creditCardMinimums + studentLoans + childSupportAndObligations + otherMortgages + otherLoans\n",
    "    return ((((grossAnnualIncome * maxDebtToIncomeRatio)/100)/12) - currentMonthlyDebts)\n",
    "\n",
    "def maxPIPmtBasedOnExpenses(propertyTax, homeOwnersInsurance, PMI, homeOwnersAssociationFees, billPayment, FoodandDrink, HomeRentpayment, InsurancePayment, Recreation, Shops, Travel):\n",
    "     return maxMonthlyPmt -  (propertyTax + homeOwnersInsurance + PMI + homeOwnersAssociationFees + billPayment + FoodandDrink + HomeRentpayment + InsurancePayment + Recreation + Shops + Travel)"
   ]
  },
  {
   "cell_type": "code",
   "execution_count": null,
   "metadata": {},
   "outputs": [],
   "source": [
    "ExpectedMaxMonthlyHousePmt(22)\n",
    "maxMonthlyPmtOnDTI = MaxMonthlyPmtonDTI(3000,1000,200,2000,100,300,300)\n",
    "expectedMaxMonthlyHousePmt = ExpectedMaxMonthlyHousePmt(22)\n",
    "maxMonthlyPmt = min(expectedMaxMonthlyHousePmt, maxMonthlyPmtOnDTI)\n",
    "maxMonthlyPmtOnDTI\n",
    "expectedMaxMonthlyHousePmt\n",
    "maxMonthlyPmt\n",
    "_maxPIPmtBasedOnExpenses = maxPIPmtBasedOnExpenses(1500,700,200,600,billPayment,FoodandDrink,HomeRentpayment,InsurancePayment,Recreation,Shops,Travel)\n",
    "_maxPIPmtBasedOnExpenses\n",
    "expenses = 12*(carLoans + creditCardMinimums + studentLoans + childSupportAndObligations + otherMortgages +\\\n",
    "               otherLoans + propertyTax + homeOwnersInsurance + PMI + homeOwnersAssociationFees + billPayment +\\\n",
    "               FoodandDrink + HomeRentpayment + InsurancePayment +Recreation + Shops + Travel)\n",
    "savings = max(grossAnnualIncome - expenses,0)\n",
    "emergencyFund = emergencyFundPercentage/100*savings\n",
    "netSavings = savings - emergencyFund\n",
    "attributes = [emergencyFund,netSavings,expenses]\n",
    "maxPIPmt=netSavings/12\n",
    "import numpy_financial as numpy\n",
    "\n",
    "maxHomePriceBasedOnFunds = max(numpy.pv(((annualInterestRate/100)/12),termOfMortgageInYears*12,-1*maxPIPmt,0)+availableFunds,0)\n",
    "maxPIPmtBasedOnFunds = max(numpy.pmt(((annualInterestRate/100)/12),termOfMortgageInYears*12,((-1*maxHomePriceBasedOnFunds+availableFunds)),0),0)\n",
    "loanAmountBasedOnMaxPIPmt = max(numpy.pv(((annualInterestRate/100)/12),termOfMortgageInYears*12,-1*maxPIPmt,0),0)\n",
    "maxHomePrice = max(loanAmountBasedOnMaxPIPmt - totalEstimatedClosingCosts+availableFunds,0)\n",
    "annualDepreciation = int(((maxHomePrice*homePriceDepreciablePercentage)/100) / yearsToDepreciate)"
   ]
  },
  {
   "cell_type": "code",
   "execution_count": null,
   "metadata": {},
   "outputs": [],
   "source": [
    "loanAmount = 1000000;\n",
    "annualInterestRate =6\n",
    "numberOfYears = 10"
   ]
  },
  {
   "cell_type": "code",
   "execution_count": null,
   "metadata": {},
   "outputs": [],
   "source": [
    "\n",
    "monthlyInterestRate = annualInterestRate / 1200\n",
    "\n",
    "monthlyPayment = loanAmount * monthlyInterestRate / (1\n",
    "        - 1 / (1 + monthlyInterestRate) ** (numberOfYears * 12))\n",
    "\n",
    "totalPayment = monthlyPayment * 12 * numberOfYears\n",
    "\n"
   ]
  },
  {
   "cell_type": "code",
   "execution_count": null,
   "metadata": {},
   "outputs": [],
   "source": [
    "fig9 = px.pie(attributes, values=attributes,names=[\"Emergency Fund\",\"Net Savings Avaliable For EMI\",\"Expenses\",],title='Maximum Affordable Loan:'+str(int(maxHomePriceBasedOnFunds)))"
   ]
  },
  {
   "cell_type": "code",
   "execution_count": null,
   "metadata": {},
   "outputs": [],
   "source": [
    "fig9"
   ]
  },
  {
   "cell_type": "markdown",
   "metadata": {},
   "source": [
    "## 1. Maximum loan affordability based on the present expenses pattern"
   ]
  },
  {
   "cell_type": "markdown",
   "metadata": {},
   "source": [
    "##### A) Maximum affordable loan amount "
   ]
  },
  {
   "cell_type": "code",
   "execution_count": null,
   "metadata": {},
   "outputs": [],
   "source": [
    "print('Maximum loan amount we can afford is:',int(loanAmountBasedOnMaxPIPmt))"
   ]
  },
  {
   "cell_type": "markdown",
   "metadata": {},
   "source": [
    "##### C) Maximum available savings for EMI per month"
   ]
  },
  {
   "cell_type": "code",
   "execution_count": null,
   "metadata": {},
   "outputs": [],
   "source": [
    "print('Maximum affordable EMI is:',int(maxPIPmtBasedOnFunds))"
   ]
  },
  {
   "cell_type": "markdown",
   "metadata": {},
   "source": [
    "##### B) Maximum affordable asset price based on the present spending pattern "
   ]
  },
  {
   "cell_type": "code",
   "execution_count": null,
   "metadata": {},
   "outputs": [],
   "source": [
    "print('Maximum asset price which we can consider is:', int(maxHomePriceBasedOnFunds))"
   ]
  },
  {
   "cell_type": "markdown",
   "metadata": {},
   "source": [
    "##### D) Maximum asset price we can consider after considering all expenses associated to the purchase"
   ]
  },
  {
   "cell_type": "code",
   "execution_count": null,
   "metadata": {},
   "outputs": [],
   "source": [
    "print('maximum asset price we can consider after considering all expenses associated to it is:', int(maxHomePrice))"
   ]
  },
  {
   "cell_type": "markdown",
   "metadata": {},
   "source": [
    "##### E) Annual depreciation for the asset"
   ]
  },
  {
   "cell_type": "code",
   "execution_count": null,
   "metadata": {},
   "outputs": [],
   "source": [
    "print('Annual depreciation for the asset is:', int(annualDepreciation))"
   ]
  },
  {
   "cell_type": "markdown",
   "metadata": {},
   "source": [
    "## 2. Calculating the amount of expenses to be reduced per month, in the case of shortage of money for the EMI for the targeted loan."
   ]
  },
  {
   "cell_type": "markdown",
   "metadata": {},
   "source": [
    "##### A)Monthly EMI to be paid for the required amount of loan:"
   ]
  },
  {
   "cell_type": "code",
   "execution_count": null,
   "metadata": {},
   "outputs": [],
   "source": [
    "print('Monthly EMI is:',int(monthlyPayment))"
   ]
  },
  {
   "cell_type": "markdown",
   "metadata": {},
   "source": [
    "##### B)Total payment paid for the purchase of asset"
   ]
  },
  {
   "cell_type": "code",
   "execution_count": null,
   "metadata": {},
   "outputs": [],
   "source": [
    "print('Total paypent paid for the asset is:',int(totalPayment))"
   ]
  },
  {
   "cell_type": "markdown",
   "metadata": {},
   "source": [
    "## 3 If surplus monthly funds are available after making EMI payment, how to manage them?"
   ]
  },
  {
   "cell_type": "code",
   "execution_count": null,
   "metadata": {},
   "outputs": [],
   "source": [
    "if monthlyPayment > maxPIPmtBasedOnFunds:\n",
    "    print('He needs to reduce his expenses to the extent of', int(monthlyPayment - maxPIPmtBasedOnFunds),'per month')\n",
    "else:\n",
    "    print('Good news, No need to limit your current expenses. If your ROI is greater than annual rate of interest, avail bank loan and invest as per your available options to increase your individual wealth, else taking loan is not advisable.')"
   ]
  },
  {
   "cell_type": "markdown",
   "metadata": {},
   "source": [
    "## Monthly reports based on the expenses:"
   ]
  },
  {
   "cell_type": "code",
   "execution_count": null,
   "metadata": {},
   "outputs": [],
   "source": [
    "FoodLimit = 10\n",
    "billPaymentlimit = 100\n",
    "HomeRentpaymentlimit = 100000\n",
    "InsurancePaymentlimit = 1000\n",
    "Recreationlimit = 100\n",
    "Shopslimit = 1000\n",
    "Travellimit = 100"
   ]
  },
  {
   "cell_type": "markdown",
   "metadata": {},
   "source": [
    "### Monthly Reports"
   ]
  },
  {
   "cell_type": "code",
   "execution_count": null,
   "metadata": {},
   "outputs": [],
   "source": [
    "if FoodandDrink > FoodLimit:\n",
    "    print('Food expenses are more than food limit')\n",
    "else:\n",
    "    print('Good job, Your food expenses are under limt')\n",
    "if billPayment > billPaymentlimit:\n",
    "    print('billPayment expenses are more than billPaymentlimit')\n",
    "else:\n",
    "    print('Good job, Your bill payment expenses are under limt')\n",
    "if HomeRentpayment > HomeRentpaymentlimit:\n",
    "    print('HomeRentpayment expenses are more than HomeRentpaymentlimit')\n",
    "else:\n",
    "    print('Good job, Your home rent expenses are under limt')\n",
    "if InsurancePayment > InsurancePaymentlimit:\n",
    "    print('InsurancePayment expenses are more than InsurancePaymentlimit')\n",
    "else:\n",
    "    print('Good job, Your insurance payment expenses are under limt')\n",
    "if Recreation > Recreationlimit:\n",
    "    print('Recreation expenses are more than Recreationlimit')\n",
    "else:\n",
    "    print('Good job, Your recreation expenses are under limt')\n",
    "if Shops > Shopslimit:\n",
    "    print('Shops expenses are more than Shopslimit')\n",
    "else:\n",
    "    print('Good job, Your shopping expenses are under limt')\n",
    "if Travel > Travellimit:\n",
    "    print('Travel expenses are more than Travellimit')\n",
    "else:\n",
    "    print('Good job, Your travelling expenses are under limt')"
   ]
  },
  {
   "cell_type": "markdown",
   "metadata": {},
   "source": [
    "# 5. Build APP"
   ]
  },
  {
   "cell_type": "code",
   "execution_count": null,
   "metadata": {},
   "outputs": [],
   "source": [
    "df=df.set_index('date')"
   ]
  },
  {
   "cell_type": "code",
   "execution_count": null,
   "metadata": {},
   "outputs": [],
   "source": [
    "df=df.reset_index()"
   ]
  },
  {
   "cell_type": "code",
   "execution_count": null,
   "metadata": {},
   "outputs": [],
   "source": [
    "def generate_table(dataframe, max_rows=10):\n",
    "    return html.Table(\n",
    "        # Header\n",
    "        [html.Tr([html.Th(col) for col in dataframe.columns])] +\n",
    "\n",
    "        # Body\n",
    "        [html.Tr([\n",
    "            html.Td(dataframe.iloc[i][col]) for col in dataframe.columns\n",
    "        ]) for i in range(min(len(dataframe), max_rows))]\n",
    "    )\n"
   ]
  },
  {
   "cell_type": "code",
   "execution_count": null,
   "metadata": {},
   "outputs": [],
   "source": []
  },
  {
   "cell_type": "code",
   "execution_count": null,
   "metadata": {
    "scrolled": false
   },
   "outputs": [],
   "source": [
    "# Build App\n",
    "\n",
    "external_stylesheets = [\n",
    "    {\n",
    "        \"href\": \"https://fonts.googleapis.com/css2?\"\n",
    "                \"family=Lato:wght@400;700&display=swap\",\n",
    "        \"rel\": \"stylesheet\",\n",
    "    },\n",
    "]\n",
    "app = dash.Dash(__name__, external_stylesheets=external_stylesheets)\n",
    "app.title = \"e-CashMate\"\n",
    "app = JupyterDash(__name__)\n",
    "\n",
    "app.layout = html.Div([\n",
    "    \n",
    "    html.Div([\n",
    "        html.H1(\" 💸📌e-CashMate📈\",style={'text-align':'center',\"fontSize\": \"48px\", \"color\": \"#FFFFFF\"}),\n",
    "    \n",
    "        html.P(\"Data Source: Plaid Sandbox\"\n",
    "               \" Transactions of CHASE BANK\"    \n",
    "               \" from 2019-06-01 to 2021-06-01\",\n",
    "                style={'color': '#CFCFCF','margin': '4px auto','max-width': '384px','text-align':'center'}),\n",
    "            ],\n",
    "        \n",
    "        style={'background-color':'black','height':'256px','display': 'flex','flex-direction':'column','justify-content':'center'},\n",
    "    ),\n",
    "    \n",
    "    html.Div([\n",
    "        html.H2('Sample Dataset',style={'text-align':'center'})\n",
    "    ]),\n",
    "    \n",
    "    \n",
    "    dash_table.DataTable(\n",
    "    id='table',\n",
    "    columns=[{\"name\": i, \"id\": i} for i in df.columns],   \n",
    "    data=df.to_dict('records'),   \n",
    "    fixed_rows={'headers': True},  \n",
    "    page_size=50,   \n",
    "    style_table={'height': '400px', 'overflowY': 'auto'},  \n",
    "    style_header={\n",
    "        'overflow': 'hidden',\n",
    "        'textOverflow': 'ellipsis',\n",
    "        'maxWidth': 50,\n",
    "    },\n",
    "    style_cell={\n",
    "        'minWidth': 30, 'maxWidth': 60, 'width': 45,\n",
    "        'textAlign': 'center'  \n",
    "    }\n",
    "),\n",
    "    html.Br(),\n",
    "    html.Br(),\n",
    "    html.Div([html.H2('Figures',style={'text-align':'center'})]),\n",
    "    html.Div([\n",
    "        dcc.Graph(figure = fig5)\n",
    "    ],\n",
    "    style={'margin-bottom': '24px','box-shadow': '0 4px 6px 0 rgba(0, 0, 0, 0.18)'},\n",
    "    ),\n",
    "    html.Div([\n",
    "        dcc.Graph(figure = fig1)   \n",
    "    ],\n",
    "    style={'margin-bottom': '24px','box-shadow': '0 4px 6px 0 rgba(0, 0, 0, 0.18)'},\n",
    "    ),\n",
    "    \n",
    "    html.Div([\n",
    "        dcc.Graph(figure = fig2)\n",
    "    ],\n",
    "    style={'margin-bottom': '24px','box-shadow': '0 4px 6px 0 rgba(0, 0, 0, 0.18)'},\n",
    "    ),\n",
    "    \n",
    "    html.Div([\n",
    "        dcc.Graph(figure = fig3)\n",
    "    ],\n",
    "    style={'margin-bottom': '24px','box-shadow': '0 4px 6px 0 rgba(0, 0, 0, 0.18)'},\n",
    "    ),\n",
    "    \n",
    "    \n",
    "    html.Div([\n",
    "        html.H2('Machine Learning',style={'text-align':'center'}),\n",
    "        dcc.Graph(figure = fig6)\n",
    "    ],\n",
    "    style={'margin-bottom': '24px','box-shadow': '0 4px 6px 0 rgba(0, 0, 0, 0.18)'},\n",
    "    ),\n",
    "    \n",
    "    html.Br(),\n",
    "    html.Br(),\n",
    "    html.Div([html.H2('Maximum loan affordability based on the present expenses pattern',style={'text-align':'center'})]),\n",
    "    html.Div([\n",
    "        dcc.Graph(figure = fig9)\n",
    "    ],\n",
    "    style={'margin-bottom': '24px','box-shadow': '0 4px 6px 0 rgba(0, 0, 0, 0.18)'},\n",
    "    ),\n",
    "    \n",
    "    html.Br(),\n",
    "    html.Br(),\n",
    "    html.Div([html.H2('Monthly reports based on the expenses',style={'text-align':'center'})]),\n",
    "    \n",
    "    html.Div([\n",
    "    html.Div([\n",
    "        html.Div(children=\"Food Limit\", style={'margin-bottom': '6px','font-weight': 'bold','color': '#079A82'}),\n",
    "        dcc.Input(\n",
    "            id='foodlimit',\n",
    "            placeholder='Please enter the food limit',\n",
    "            type=\"number\",\n",
    "            style={'width':'300px'}\n",
    "            ),\n",
    "        html.Button('Submit',id='state-button1',n_clicks=0),\n",
    "        html.Div(id='food_output',style={'padding': '0','margin': '0','line-height': '38px'})\n",
    "            ],style={'text-align':'center'}),\n",
    "    \n",
    "    html.Br(),\n",
    "    html.Div([\n",
    "        html.Div(children=\"Bill Payment Limit\", style={'margin-bottom': '6px','font-weight': 'bold','color': '#079A82'}),\n",
    "        dcc.Input(\n",
    "            id='billlimit',\n",
    "            placeholder='Please enter the bill payment limit',\n",
    "            type=\"number\",\n",
    "            style={'width':'300px'}\n",
    "            ),\n",
    "        html.Button('Submit',id='state-button2',n_clicks=0),\n",
    "        html.Div(id='bill_output',style={'padding': '0', 'margin': '0', 'line-height': '38px'})           \n",
    "    ],style={'text-align':'center'}),\n",
    "    \n",
    "    html.Br(),    \n",
    "    html.Div([\n",
    "        html.Div(children=\"Home Rent Payment Limit\", style={'margin-bottom': '6px','font-weight': 'bold','color': '#079A82'}),\n",
    "        dcc.Input(\n",
    "            id='homelimit',\n",
    "            placeholder='Please enter the home rent payment limit',\n",
    "            type=\"number\",\n",
    "            style={'width':'300px'}\n",
    "            ),\n",
    "        html.Button('Submit',id='state-button3',n_clicks=0),\n",
    "        html.Div(id='home_output',style={'padding': '0','margin': '0','line-height': '38px'})           \n",
    "    ],style={'text-align':'center'}),\n",
    "\n",
    "    html.Br(),\n",
    "    html.Div([\n",
    "        html.Div(children=\"Insurance Payment Limit\", style={'margin-bottom': '6px','font-weight': 'bold','color': '#079A82'}),\n",
    "        dcc.Input(\n",
    "            id='insurancelimit',\n",
    "            placeholder='Please enter the insurance payment limit',\n",
    "            type=\"number\",\n",
    "            style={'width':'300px'}\n",
    "            ),\n",
    "        html.Button('Submit',id='state-button4',n_clicks=0),\n",
    "        html.Div(id='insurance_output',style={'padding': '0', 'margin': '0', 'line-height': '38px'})           \n",
    "    ],style={'text-align':'center'}),\n",
    "    \n",
    "    html.Br(),\n",
    "    html.Div([\n",
    "        html.Div(children=\"Recreation Limit\", style={'margin-bottom': '6px','font-weight': 'bold','color': '#079A82'}),\n",
    "        dcc.Input(\n",
    "            id='recreationlimit',\n",
    "            placeholder='Please enter the recreation limit',\n",
    "            type=\"number\",\n",
    "            style={'width':'300px'}\n",
    "            ),\n",
    "        html.Button('Submit',id='state-button5',n_clicks=0),\n",
    "        html.Div(id='recreation_output',style={'padding': '0','margin': '0','line-height': '38px'})        \n",
    "    ],style={'text-align':'center'}),\n",
    "\n",
    "    html.Br(),\n",
    "    html.Div([\n",
    "        html.Div(children=\"Shopping Limit\", style={'margin-bottom': '6px','font-weight': 'bold','color': '#079A82'}),\n",
    "        dcc.Input(\n",
    "            id='shoplimit',\n",
    "            placeholder='Please enter the shopping limit',\n",
    "            type=\"number\",\n",
    "            style={'width':'300px'}\n",
    "            ),\n",
    "        html.Button('Submit',id='state-button6',n_clicks=0),\n",
    "        html.Div(id='shop_output',style={'padding': '0', 'margin': '0', 'line-height': '38px'})    \n",
    "    ],style={'text-align':'center'}),\n",
    "    \n",
    "    html.Br(),\n",
    "    html.Div([\n",
    "        html.Div(children=\"Travel Limit\", style={'margin-bottom': '6px','font-weight': 'bold','color': '#079A82'}),\n",
    "        dcc.Input(\n",
    "            id='travellimit',\n",
    "            placeholder='Please enter the travel limit',\n",
    "            type=\"number\",\n",
    "            style={'width':'300px'}\n",
    "            ),\n",
    "        html.Button('Submit',id='state-button7',n_clicks=0),\n",
    "        html.Div(id='travel_output',style={'padding': '0','margin': '0','line-height': '38px'})          \n",
    "    ],style={'text-align':'center'})\n",
    "    ],\n",
    "        style= {'margin-bottom': '24px','box-shadow': '0 4px 6px 0 rgba(0, 0, 0, 0.18)'\n",
    "})\n",
    "\n",
    "\n",
    "],\n",
    "\n",
    "    style={'margin-right': 'auto', 'margin-left': 'auto','max-width': '1024px', 'padding-right': '10px', 'padding-left': '10px', \n",
    "           'margin-top': '32px'}\n",
    ")\n",
    "\n",
    "@app.callback(\n",
    "    Output('food_output', 'children'),\n",
    "    Input('state-button1', 'n_clicks'),\n",
    "    State('foodlimit', 'value'),\n",
    "    prevent_initial_call=True\n",
    "\n",
    ")\n",
    "    \n",
    "def update_output_1(n_clicks,foodlimit):\n",
    "\n",
    "    if float(FoodandDrink) > float(foodlimit) :\n",
    "        return'Food expenses are more than food limit'\n",
    "    else:\n",
    "        return'Good job, Your food expenses are under limit'\n",
    "    \n",
    "@app.callback(\n",
    "    Output('bill_output', 'children'),\n",
    "    Input('state-button2', 'n_clicks'),\n",
    "    State('billlimit', 'value'),\n",
    "    prevent_initial_call=True\n",
    "\n",
    ")  \n",
    "    \n",
    "def update_output_2(n_clicks,billlimit):\n",
    "\n",
    "    if float(billPayment) > float(billlimit) :\n",
    "        return'Bill payment expenses are more than bill payment limit'\n",
    "    else:\n",
    "        return'Good job, Your bill payment expenses are under limit'\n",
    "\n",
    "@app.callback(\n",
    "    Output('home_output', 'children'),\n",
    "    Input('state-button3', 'n_clicks'),\n",
    "    State('homelimit', 'value'),\n",
    "    prevent_initial_call=True\n",
    "\n",
    ")\n",
    "    \n",
    "def update_output_3(n_clicks,homelimit):\n",
    "\n",
    "    if float(HomeRentpayment) > float(homelimit) :\n",
    "        return'Home rent payment expenses are more than home rent payment limit'\n",
    "    else:\n",
    "        return'Good job, Your home rent expenses are under limit'\n",
    "    \n",
    "@app.callback(\n",
    "    Output('insurance_output', 'children'),\n",
    "    Input('state-button4', 'n_clicks'),\n",
    "    State('insurancelimit', 'value'),\n",
    "    prevent_initial_call=True\n",
    "\n",
    ")  \n",
    "    \n",
    "def update_output_4(n_clicks,insurancelimit):\n",
    "\n",
    "    if float(InsurancePayment) > float(insurancelimit) :\n",
    "        return'Insurance payment expenses are more than insurance payment limit'\n",
    "    else:\n",
    "        return'Good job, Your insurance payment expenses are under limit'\n",
    "    \n",
    "@app.callback(\n",
    "    Output('recreation_output', 'children'),\n",
    "    Input('state-button5', 'n_clicks'),\n",
    "    State('recreationlimit', 'value'),\n",
    "    prevent_initial_call=True\n",
    "\n",
    ")\n",
    "    \n",
    "def update_output_5(n_clicks,recreationlimit):\n",
    "\n",
    "    if float(Recreation) > float(recreationlimit) :\n",
    "        return'Recreation expenses are more than recreation limit'\n",
    "    else:\n",
    "        return'Good job, Your recreation expenses are under limit'\n",
    "    \n",
    "@app.callback(\n",
    "    Output('shop_output', 'children'),\n",
    "    Input('state-button6', 'n_clicks'),\n",
    "    State('shoplimit', 'value'),\n",
    "    prevent_initial_call=True\n",
    "\n",
    ")  \n",
    "    \n",
    "def update_output_6(n_clicks,shoplimit):\n",
    "\n",
    "    if float(Shops) > float(shoplimit) :\n",
    "        return'Shops expenses are more than shopping limit'\n",
    "    else:\n",
    "        return'Good job, Your shopping expenses are under limit'\n",
    "\n",
    "@app.callback(\n",
    "    Output('travel_output', 'children'),\n",
    "    Input('state-button7', 'n_clicks'),\n",
    "    State('travellimit', 'value'),\n",
    "    prevent_initial_call=True\n",
    "\n",
    ")\n",
    "    \n",
    "def update_output_7(n_clicks,travellimit):\n",
    "\n",
    "    if float(Travel) > float(travellimit) :\n",
    "        return'Travel expenses are more than travel limit'\n",
    "    else:\n",
    "        return'Good job, Your travelling expenses are under limit'\n",
    "    \n",
    "# Run app and display result\n",
    "if __name__ == \"__main__\":\n",
    "    app.run_server(debug=True,port=8000)\n",
    "\n",
    "#CLick on the link below to access the \"e-CashMate\""
   ]
  },
  {
   "cell_type": "code",
   "execution_count": null,
   "metadata": {},
   "outputs": [],
   "source": []
  },
  {
   "cell_type": "code",
   "execution_count": null,
   "metadata": {},
   "outputs": [],
   "source": []
  }
 ],
 "metadata": {
  "kernelspec": {
   "display_name": "Python 3",
   "language": "python",
   "name": "python3"
  },
  "language_info": {
   "codemirror_mode": {
    "name": "ipython",
    "version": 3
   },
   "file_extension": ".py",
   "mimetype": "text/x-python",
   "name": "python",
   "nbconvert_exporter": "python",
   "pygments_lexer": "ipython3",
   "version": "3.8.8"
  }
 },
 "nbformat": 4,
 "nbformat_minor": 4
}
